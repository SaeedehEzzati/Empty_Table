{
 "cells": [
  {
   "cell_type": "code",
   "execution_count": 1,
   "id": "ddfd85d5-6e65-4c9e-8a11-2c63593d2afb",
   "metadata": {},
   "outputs": [],
   "source": [
    "##### checked"
   ]
  },
  {
   "cell_type": "code",
   "execution_count": 24,
   "id": "3da4ef8f",
   "metadata": {},
   "outputs": [],
   "source": [
    "import torch\n",
    "import torchvision\n",
    "import torchvision.transforms.functional as F\n",
    "from PIL import Image\n",
    "import time\n",
    "import os\n",
    "import shutil\n",
    "import cv2\n",
    "import mtcnn\n",
    "import numpy as np\n",
    "import pandas as pd\n",
    "from PIL import Image\n",
    "from glob import glob\n",
    "from datetime import datetime\n",
    "from retinaface import RetinaFace\n",
    "from tensorflow.keras.preprocessing import image\n",
    "from matplotlib import pyplot as plt\n",
    "import matplotlib\n",
    "%matplotlib inline\n",
    "from time import gmtime, strftime\n",
    "\n",
    "device = 'cuda:0'"
   ]
  },
  {
   "cell_type": "markdown",
   "id": "60a41958",
   "metadata": {},
   "source": [
    "# <div style=\"direction:rtl\"> <font color= red>  مدل ها </font> </div>\n"
   ]
  },
  {
   "cell_type": "code",
   "execution_count": 25,
   "id": "4f75a312",
   "metadata": {},
   "outputs": [
    {
     "name": "stderr",
     "output_type": "stream",
     "text": [
      "Using cache found in C:\\Users\\s.ezati/.cache\\torch\\hub\\ultralytics_yolov5_master\n",
      "YOLOv5  2023-1-21 Python-3.10.6 torch-1.13.0+cu117 CUDA:0 (NVIDIA GeForce RTX 3060, 12287MiB)\n",
      "\n",
      "Fusing layers... \n",
      "YOLOv5x6 summary: 574 layers, 140730220 parameters, 0 gradients, 209.6 GFLOPs\n",
      "Adding AutoShape... \n"
     ]
    }
   ],
   "source": [
    "chair_detection_model = torch.hub.load('ultralytics/yolov5', 'custom', path='yolov5x6.pt',device='cuda:0')"
   ]
  },
  {
   "cell_type": "code",
   "execution_count": 26,
   "id": "bc0a21b5",
   "metadata": {},
   "outputs": [
    {
     "name": "stderr",
     "output_type": "stream",
     "text": [
      "Using cache found in C:\\Users\\s.ezati/.cache\\torch\\hub\\ultralytics_yolov5_master\n",
      "YOLOv5  2023-1-21 Python-3.10.6 torch-1.13.0+cu117 CUDA:0 (NVIDIA GeForce RTX 3060, 12287MiB)\n",
      "\n",
      "Fusing layers... \n",
      "Model summary: 308 layers, 21041679 parameters, 0 gradients\n",
      "Adding AutoShape... \n"
     ]
    }
   ],
   "source": [
    "head_detection_model = torch.hub.load('ultralytics/yolov5', 'custom', path='crowdhuman_yolov5m.pt',device='cuda:0')"
   ]
  },
  {
   "cell_type": "markdown",
   "id": "8ce026d3",
   "metadata": {},
   "source": [
    "# <div style=\"direction:rtl\"> <font color= red>   ارزیابی مدل </font> </div>\n"
   ]
  },
  {
   "cell_type": "code",
   "execution_count": 27,
   "id": "83b15571",
   "metadata": {},
   "outputs": [],
   "source": [
    "def Head_Detection(model, img):\n",
    "    \n",
    "    img = Image.fromarray(img)\n",
    "    img = F.adjust_brightness(img, 1.9)\n",
    "    img = F.adjust_contrast(img,0.5)\n",
    "    img = F.adjust_sharpness(img,1.2)   \n",
    "    cordination = []\n",
    "    \n",
    "    with torch.no_grad(): results = model(np.array(img))\n",
    "    if len(results.xywh[0]) == 0: pass\n",
    "    else:\n",
    "        df = pd.DataFrame(results.xywh[0].cpu())\n",
    "        columnNames = ['x','y','w','h','confidance','lable']\n",
    "        df.columns = columnNames\n",
    "        for indx,res in enumerate(results.xywh[0]):            \n",
    "            predict = int(df['lable'][indx])\n",
    "            if predict == 1:\n",
    "                res = np.array(res.detach().cpu())\n",
    "#                 print(\"___________:\",res[4]*100)\n",
    "                if res[4]*100 > 60:#50\n",
    "                    x = round(res[0])\n",
    "                    y = round(res[1])\n",
    "                    w = round(res[2])\n",
    "                    h = round(res[3])\n",
    "                    cordination.append([x,y])\n",
    "#                     print(\"person x:\", x)\n",
    "#                     print(\"person y:\", y)\n",
    "            else:pass\n",
    "        \n",
    "    return cordination"
   ]
  },
  {
   "cell_type": "code",
   "execution_count": 28,
   "id": "7141e2e1",
   "metadata": {},
   "outputs": [],
   "source": [
    "def Chair_Detection(model, img, filter_ = 'chair'):\n",
    "    img = Image.fromarray(img)\n",
    "    flag = False\n",
    "    img = F.adjust_brightness(img, 1.5)\n",
    "    img = F.adjust_contrast(img,1)\n",
    "    img = F.adjust_sharpness(img,1)\n",
    "\n",
    "    cordination = []\n",
    "\n",
    "    with torch.no_grad(): results = model(np.array(img))\n",
    "\n",
    "    if len(results.xyxy[0]) == 0: pass\n",
    "    else:        \n",
    "        for indx,res in enumerate(results.xyxy[0]):\n",
    "            \n",
    "            predict = results.pandas().xyxy[0]['name'][indx]\n",
    "            if predict == filter_:\n",
    "                res = np.array(res.detach().cpu())\n",
    "#                 print(\"chair ratio: \",res[4]*100)\n",
    "                if res[4]*100 > 50:\n",
    "                    x = round(res[0])\n",
    "                    y = round(res[1])\n",
    "                    w = round(res[2])\n",
    "                    h = round(res[3])\n",
    "                    cordination.append([x,y])\n",
    "#                     print(\"chair x:\", x)\n",
    "#                     print(\"chair y:\", y)\n",
    "            else:pass\n",
    "        \n",
    "    return cordination"
   ]
  },
  {
   "cell_type": "code",
   "execution_count": 38,
   "id": "10a95899",
   "metadata": {},
   "outputs": [],
   "source": [
    "def Employee_Status(head_detection_model, chair_detection_model, img,count,last_lable,treshold):\n",
    "    person_cordination = Head_Detection(head_detection_model,img)\n",
    "    chair_cordination = Chair_Detection(chair_detection_model,img)\n",
    "    real_employee = []\n",
    "    lable = ''\n",
    "    if count % 5 == 0:\n",
    "        if person_cordination:\n",
    "            if chair_cordination:\n",
    "                for cord in person_cordination:\n",
    "                    dist = np.linalg.norm(np.array(cord) - np.array(chair_cordination[0]))\n",
    "                    real_employee.append(dist)\n",
    "                if min(real_employee) < treshold:#100\n",
    "                    lable = '1'\n",
    "                else: \n",
    "                    lable ='0'\n",
    "            else:\n",
    "                lable = '0'\n",
    "        else:\n",
    "            lable = '-1'\n",
    "    else:\n",
    "        lable = last_lable\n",
    "   \n",
    "    return lable \n",
    "    \n"
   ]
  },
  {
   "cell_type": "code",
   "execution_count": 43,
   "id": "ce660371",
   "metadata": {},
   "outputs": [],
   "source": [
    "path = './samples/-1/sample_3_lable_0.mp4'\n",
    "cap = cv2.VideoCapture(path)\n",
    "\n",
    "if (cap.isOpened() == False): \n",
    "    print(\"Error opening video stream or file\")\n",
    "    \n",
    "person_cordination =[95, 211, 177, 227]\n",
    "pred = []\n",
    "real = []\n",
    "real_lable = path.split('/')[2]\n",
    "\n",
    "frame_counter = 0\n",
    "last_lable = ''\n",
    "while(cap.isOpened()):\n",
    "    ret, frame = cap.read()\n",
    "    if ret == True:\n",
    "        real.append(real_lable)\n",
    "        img = cv2.resize(np.array(frame), (1280, 720))\n",
    "        try: \n",
    "            if person_cordination[0] == person_cordination[1] and person_cordination[2] == person_cordination[3]:\n",
    "                if person_cordination[0] == 0 and person_cordination[0] == person_cordination[3]: pass\n",
    "                else: \n",
    "                    img = img[int(person_cordination[1]):int(person_cordination[1]+person_cordination[3]),int(person_cordination[0]):\n",
    "                                int(person_cordination[0]+person_cordination[2])]\n",
    "            else: \n",
    "                img = img[int(person_cordination[1]):int(person_cordination[1]+person_cordination[3]),int(person_cordination[0]):\n",
    "                            int(person_cordination[0]+person_cordination[2])]\n",
    "\n",
    "        except IndexError: pass\n",
    "        \n",
    "        lable = Employee_Status(head_detection_model, chair_detection_model, img,frame_counter,last_lable,69)\n",
    "        pred.append(lable)\n",
    "        last_lable = lable\n",
    "        \n",
    "#         cv2.imshow('Frame',img)\n",
    " \n",
    "#         # Press Q on keyboard to  exit\n",
    "#         if cv2.waitKey(25) & 0xFF == ord('q'):\n",
    "#           break\n",
    "        frame_counter = frame_counter + 1\n",
    "\n",
    "    else: \n",
    "        break\n",
    "\n",
    "cap.release()\n",
    " \n",
    "# Closes all the frames\n",
    "cv2.destroyAllWindows()"
   ]
  },
  {
   "cell_type": "code",
   "execution_count": 48,
   "id": "5425a7b7",
   "metadata": {},
   "outputs": [],
   "source": [
    "from sklearn.metrics import confusion_matrix\n",
    "from sklearn.metrics import classification_report\n",
    "from sklearn.metrics import average_precision_score\n",
    "\n",
    "print(classification_report(real, pred))\n",
    "\n",
    "confusion_matrix = confusion_matrix(real, pred)\n"
   ]
  },
  {
   "cell_type": "code",
   "execution_count": 45,
   "id": "9ea39556",
   "metadata": {},
   "outputs": [],
   "source": [
    "import matplotlib.pyplot as plt\n",
    "%matplotlib inline\n",
    "import numpy\n",
    "from sklearn import metrics"
   ]
  },
  {
   "cell_type": "code",
   "execution_count": 47,
   "id": "70749e2e",
   "metadata": {},
   "outputs": [],
   "source": [
    "cm_display = metrics.ConfusionMatrixDisplay(confusion_matrix = confusion_matrix,\n",
    "                                            display_labels = ['-1', '0', '1'])\n",
    "\n",
    "cm_display.plot(cmap='plasma')# cmap='bwr'\n",
    "plt.show()\n"
   ]
  },
  {
   "cell_type": "markdown",
   "id": "d661c953",
   "metadata": {},
   "source": [
    "# <div style=\"direction:rtl\"> <font color= red>  نتایج ارزیابی مدل </font> </div>\n",
    "  \n",
    "  "
   ]
  },
  {
   "cell_type": "markdown",
   "id": "c26638d4",
   "metadata": {},
   "source": [
    "### <font color= Fuchsia> samples location : </font> \n",
    "<font color= Darkblue> \\S.Ezati\\empty_table\\test_sample_videos </font>\n",
    " \n",
    " "
   ]
  },
  {
   "cell_type": "markdown",
   "id": "c2a3e0fb",
   "metadata": {},
   "source": [
    "# <font color= DarkOrange>  Sample 1 </font>\n",
    "\n"
   ]
  },
  {
   "cell_type": "markdown",
   "id": "acfaff5a",
   "metadata": {},
   "source": [
    "#  <font color= DarkTurquoise>  lable = 1 </font>"
   ]
  },
  {
   "attachments": {
    "sample_1_lable_1_v01.png": {
     "image/png": "[encoded data removed]"
    }
   },
   "cell_type": "markdown",
   "id": "ecf290a0",
   "metadata": {},
   "source": [
    "##  <font color= YellowGreen>  V.0.1 </font>\n",
    "\n",
    "        precision    recall  f1-score   support\n",
    "\n",
    "          -1       0.00      0.00      0.00         0\n",
    "           0       0.00      0.00      0.00         0\n",
    "           1       1.00      0.94      0.97      1341\n",
    "\n",
    "    accuracy                               0.94      1341\n",
    "    macro avg          0.33      0.31      0.32      1341\n",
    "    weighted avg       1.00      0.94      0.97      1341\n",
    "\n",
    "\n",
    "![sample_1_lable_1_v01.png](attachment:sample_1_lable_1_v01.png)"
   ]
  },
  {
   "attachments": {
    "lable_1.png": {
     "image/png": "[encoded data removed]"
    }
   },
   "cell_type": "markdown",
   "id": "7008190c",
   "metadata": {},
   "source": [
    "##  <font color= YellowGreen>  V.0.2 </font>\n",
    "\n",
    "        precision    recall  f1-score   support\n",
    "\n",
    "           0       0.00      0.00      0.00         0\n",
    "           1       1.00      0.99      0.99       486\n",
    "\n",
    "    accuracy                               0.99       486\n",
    "    acro avg           0.50      0.49      0.50       486\n",
    "    weighted avg       1.00      0.99      0.99       486\n",
    "\n",
    "\n",
    "![lable_1.png](attachment:lable_1.png)"
   ]
  },
  {
   "attachments": {
    "sample_1_lable_-1-2.png": {
     "image/png": "[encoded data removed]"
    }
   },
   "cell_type": "markdown",
   "id": "f6339d3b",
   "metadata": {},
   "source": [
    "#  <font color= DarkTurquoise>  lable = -1 </font>\n",
    "\n",
    "        precision    recall  f1-score   support\n",
    "\n",
    "          -1       1.00      0.96      0.98      1253\n",
    "           0       0.00      0.00      0.00         0\n",
    "           1       0.00      0.00      0.00         0\n",
    "\n",
    "    accuracy                               0.96      1253\n",
    "    macro avg          0.33      0.32      0.33      1253\n",
    "    weighted avg       1.00      0.96      0.98      1253\n",
    "\n",
    "\n",
    "\n",
    "![sample_1_lable_-1-2.png](attachment:sample_1_lable_-1-2.png)"
   ]
  },
  {
   "cell_type": "markdown",
   "id": "bdf666e4",
   "metadata": {},
   "source": [
    "# <font color= DarkOrange>  Sample 3 </font>\n"
   ]
  },
  {
   "attachments": {
    "sample_3_lable_1.png": {
     "image/png": "[encoded data removed]"
    }
   },
   "cell_type": "markdown",
   "id": "4114785f",
   "metadata": {},
   "source": [
    "#  <font color= DarkTurquoise>  lable = 1 </font>\n",
    "\n",
    "    precision    recall  f1-score   support\n",
    "\n",
    "           0       0.00      0.00      0.00         0\n",
    "           1       1.00      0.81      0.90       558\n",
    "\n",
    "    accuracy                               0.81       558\n",
    "    macro avg          0.50      0.41      0.45       558\n",
    "    weighted avg       1.00      0.81      0.90       558\n",
    "    \n",
    "    \n",
    "![sample_3_lable_1.png](attachment:sample_3_lable_1.png)"
   ]
  },
  {
   "attachments": {
    "sample_3_lable_-1.png": {
     "image/png": "[encoded data removed]"
    }
   },
   "cell_type": "markdown",
   "id": "51bea41f",
   "metadata": {},
   "source": [
    "#  <font color= DarkTurquoise>  lable = -1 </font>\n",
    "\n",
    "precision    recall  f1-score   support\n",
    "\n",
    "          -1       1.00      0.81      0.90       574\n",
    "           0       0.00      0.00      0.00         0\n",
    "           1       0.00      0.00      0.00         0\n",
    "\n",
    "    accuracy                           0.81       574\n",
    "   macro avg       0.33      0.27      0.30       574\n",
    "weighted avg       1.00      0.81      0.90       574\n",
    "\n",
    "![sample_3_lable_-1.png](attachment:sample_3_lable_-1.png)"
   ]
  },
  {
   "cell_type": "markdown",
   "id": "793dbbc6",
   "metadata": {},
   "source": [
    "# <div style=\"direction:rtl\"> <font color= red>  پارامترهای ورودی </font> </div>\n"
   ]
  },
  {
   "cell_type": "markdown",
   "id": "a42fc9fd",
   "metadata": {},
   "source": [
    "<div style=\"direction:rtl\">همچنین با توجه به فاصله و مکان فیزیکی دوربین نسبت به میز کارمند باید Treshold (فاصله bounding box فرد و صندلی) تغییر داشته باشد. در حال حاضر ما این فاصله را دستی در ورودی الگوریتم وارد میکنیم ولی میتوان با روش های الگوریتمی مانند نسبت مختصات (ROI) میز مورد نظر این Treshold را تغییر داد به صورتی که نیازی به وارد کردن از طریق ادمین نباشد. ولی با توجه به این کهخ این راه حل در روز تحویل مطرح شد در صورت نیاز در اسپرینت بعدی پیاده سازی و تست خواهد شد و در صورت دقت خوب در الگوریتم وارد میشود.  </div>\n",
    "\n"
   ]
  },
  {
   "cell_type": "markdown",
   "id": "afbc5afd",
   "metadata": {},
   "source": [
    "# <div style=\"direction:rtl\"> <font color= red>  Config </font> </div>\n"
   ]
  },
  {
   "cell_type": "markdown",
   "id": "b765a7d6",
   "metadata": {},
   "source": [
    "<div style=\"direction:rtl\"> در سرویس مشخصات دوربین و محل قرار گیری دوربین نسبت به میز های مورد نظر بسیار مهم می باشد.</div>\n",
    "<div style=\"direction:rtl\"> با کیفیت دوربین های حال حاضر(172.16.60.21) :</div> \n",
    "<div style=\"direction:rtl\"> 1.\tباید توجه داشت که فاصله میز مورد نظر از دوربین بیشتر از 6 متر نباشد.</div>\n",
    "<div style=\"direction:rtl\"> 2.\tباید زاویه دوربین نسبت به شخص تا حد امکان از پشت و بالا باشد تا هم صندلی و هم \"سر\" شخص کاملا مشخص باشد. </div>\n",
    "<div style=\"direction:rtl\"> 3.\tباید نور محیط نرمال باشد.</div>\n",
    "<div style=\"direction:rtl\"> 4.\tوضعیت دوربین نسبت به میز به گونه ای باشد که محل رفت و آمد دیگران نباشد.</div>\n",
    "\n",
    "\n",
    "\n"
   ]
  },
  {
   "cell_type": "markdown",
   "id": "b96167bb",
   "metadata": {},
   "source": [
    "# <div style=\"direction:rtl\"> <font color= red>  تنظیم پارامترها </font> </div>\n"
   ]
  },
  {
   "cell_type": "markdown",
   "id": "79c6f8bb",
   "metadata": {},
   "source": [
    "<div style=\"direction:rtl\"> در این پیاده سازی مقدار  confidens تشخیص شخص و صندلی نسبتا بالا در نظر گرفته شده است تا به اشتباه شی هایی مانند هاب را به جای \"head\" شناسایی نکند. بنابراین با تست بر روی عکس های مختلف و لوازم موجود در محیط شرکت این نسبت ها تعیین شده است. </div>"
   ]
  },
  {
   "cell_type": "markdown",
   "id": "8fb18f58",
   "metadata": {},
   "source": [
    "# <div style=\"direction:rtl\"> <font color= red> Skip Frame </font> </div>\n"
   ]
  },
  {
   "cell_type": "markdown",
   "id": "1549c02b",
   "metadata": {},
   "source": [
    "<div style=\"direction:rtl\"> در این روش؛ شماره فریم و وضعیت (default = null) به عنوان ورودی به متد داده می شود. در صورتی که فریم مضربی از 7 باید وارد روند تعیین وضعیت شده و مدل ها بر روی فریم پردازش می شوند. ولی در غیر این صورت وضعیت فریم قبلی به عنوان فریم جدید معرفی می شود. </div>\n",
    "<div style=\"direction:rtl\"> این مساله در صورتی که برچسب اشتباه نیز توسط الگوریتم تشخیص داده شود برای 7 فریم بعدی وضعیت اشتباه را نشان می دهد. این مورد با تیم هوش مصنوعی مطرح و طی جلسه فنی تصمیم بر این شده که در اسپرینت بعدی در جهت بهبود این موضوع اقدامات لازم انجام گردد. </div>"
   ]
  },
  {
   "cell_type": "markdown",
   "id": "2d08ca07",
   "metadata": {},
   "source": [
    "# <div style=\"direction:rtl\"> <font color= red> چالش ها و بهبودی در روش </font> </div>\n"
   ]
  },
  {
   "cell_type": "markdown",
   "id": "01b61dbe",
   "metadata": {},
   "source": [
    "<div style=\"direction:rtl\"> a)\tدر صورتی که نور محیط مناسب باشد دقت الگوریتم به مراتب بهتر خواهد بود.\n",
    " </div>\n",
    "<div style=\"direction:rtl\"> b)\tدر صورتی که کیفیت دوربین مورد استفاده بهتر باشد حتما دقت الگوریتم افزایش خواهد داشت.\n",
    " </div>\n",
    "<div style=\"direction:rtl\"> c)\tبا  افزایش کیفیت دوربین میتواند محدوده تحت پوشش دوربین را نیز افزایش داد. \n",
    " </div>\n",
    "<div style=\"direction:rtl\"> d)\tدر مورد بانوان در ایران این موضوع مطرح است که این مدل از پیش آموزش داده شده است و با نمونه ی با حجاب آموزش داده نشده است بنابراین در مواردی که شخص با حجاب پشت میز باشد احتمالا دقت مدل نسبت به کیس آقایان کاهش خواهد داشت. بنابراین در این مورد لازم به بومی سازی این روش با آموزش مدل بر روی دیتاست اسلامی خواهد بود.\n",
    " </div>\n",
    "<div style=\"direction:rtl\"> e)\tدر صورتی که بتوانیم skip frame را هوشمندانه تر کنیم یعنی مثلا در مواقعی که برچسب اشتباه تشخیص می دهد skip frame را نداشته باشد احتمال زیاد دقت الگوریتم افزایش خواهد داشت. \n",
    " </div>\n",
    "<div style=\"direction:rtl\"> f)\tدر صورتی که برای پیش پردازش نور از مدل های Deep استفاده کنیم دقت مدل بهتر خواهد شد. \n",
    " </div>\n",
    "<div style=\"direction:rtl\"> g)\tدر صورتی که بتوان distance Treshold را به صورت داینامیک و دقیق تنظیم کرد دقت افزایش خواهد داشت.\n",
    " </div>\n"
   ]
  }
 ],
 "metadata": {
  "kernelspec": {
   "display_name": "Python 3 (ipykernel)",
   "language": "python",
   "name": "python3"
  },
  "language_info": {
   "codemirror_mode": {
    "name": "ipython",
    "version": 3
   },
   "file_extension": ".py",
   "mimetype": "text/x-python",
   "name": "python",
   "nbconvert_exporter": "python",
   "pygments_lexer": "ipython3",
   "version": "3.12.2"
  }
 },
 "nbformat": 4,
 "nbformat_minor": 5
}
